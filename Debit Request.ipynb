{
 "cells": [
  {
   "cell_type": "markdown",
   "metadata": {
    "vscode": {
     "languageId": "html"
    }
   },
   "source": [
    "### <b>Api_user and APi_Key</b>\n",
    "Each country has a specific partner portal where  the API Keys and User are configured.<br>\n",
    "This flow is different from SandBox where specific APIs are called.<br><br>\n",
    "\n",
    "Login onto the Portal<br>\n",
    "under your profile, find APIAcess<br>\n",
    "Configure the provider Callback Host & Payment Server URL as illustrated below.<br>\n",
    "\n",
    "If the URL for your callback is https://webhook.com/mysite/status  then,<br>\n",
    "configure <ins><b>Provider Callback Host</b></ins> as webhook.com<br>\n",
    "and <ins><b>Payment Server URL</b></ins> as  https://webhook.com/mysite/status <br>\n",
    "\n",
    "### <b>Subscription Keys</b>\n",
    "<ins><b>Please use the primary Subscription Keys</b></ins>\n",
    "\n",
    "### <b>Target_Environment per country with Currency</b> \n",
    "| Country | X-Target-Environment | Currency |\n",
    "| --- | --- | --- |\n",
    "MTN Uganda | mtnuganda | UGX\n",
    "MTN Ghana |\tmtnghana |\tGHS\n",
    "MTN Ivory | Coast\tmtnivorycoast |\tXOF\n",
    "MTN Zambia |\tmtnzambia |\tZMW\n",
    "MTN Cameroon |\tmtncameroon |\tXAF\n",
    "MTN Benin |\tmtnbenin |\tXOF\n",
    "MTN Congo B |\tmtncongo |\tXAF\n",
    "MTN Swaziland |\tmtnswaziland |\tSZL\n",
    "MTN GuineaConakry |\tmtnguineaconakry |\tGNF\n",
    "MTN SouthAfrica |\tmtnsouthafrica |\tZAR\n",
    "MTN Liberia |\tmtnliberia |\tLRD\n",
    "\n",
    "### <b>Request To Pay Body</b>\n",
    "| Field | Format | Description |\n",
    "| --- | --- | --- |\n",
    "amount | (string) | The amount to be requested.\n",
    "currency | (string): | The currency in which the amount is requested.\n",
    "externalId | (string) | The unique identifier for the request.\n",
    "payer | (object):\n",
    "payer:partyIdType | (string)| The type of party ID for the payer.(MSISDN/ALIAS/EMAIL)\n",
    "payer:partyId | (string) | The ID of the payer.\n",
    "payerMessage | (string)| Message from the payer.\n",
    "payeeNote | (string) | Note for the payee.\n",
    "\n",
    "\n",
    "\n"
   ]
  },
  {
   "cell_type": "code",
   "execution_count": 2,
   "metadata": {},
   "outputs": [],
   "source": [
    "from datetime import datetime\n",
    "Api_User = \"***************\" \n",
    "Api_Key = \"****************\"\n",
    "Token=\"\"\n",
    "Token_expiry_time = \"\"\n",
    "Token_expired = False\n",
    "Token_expiry_time = datetime.now()\n",
    "Environment = \"mtnuganda\" #Target Environment  \n",
    "Collection_Subscription_Primary_Key  = \"*******************\"#Primary Key for Collection Subscription.https://momoapi.mtn.com/profile\n",
    "Request_ID_Debit = \"\" #UUID String Request Reference \n",
    "Base_Url = \"https://proxy.momoapi.mtn.com\" #Production Base URL\n"
   ]
  },
  {
   "cell_type": "code",
   "execution_count": 3,
   "metadata": {},
   "outputs": [],
   "source": [
    "\n",
    "#Function to generate Token and set Token expiry. \n",
    "def Get_Token():# function to return token (renews token if expired)\n",
    "    import requests as rq\n",
    "    from datetime import datetime, timedelta\n",
    "    global Token \n",
    "    global Token_expiry_time\n",
    "    global Api_User\n",
    "    global Api_Key    \n",
    "    EndPoint = Base_Url+\"/collection/token/\"\n",
    "    Auth = bytes(Api_User + ':' + Api_Key, \"utf-8\")\n",
    "    headers = {    \n",
    "    \"Ocp-Apim-Subscription-Key\": Collection_Subscription_Primary_Key,\n",
    "    }\n",
    "    resp = rq.request(\"post\", EndPoint,auth=(Api_User,Api_Key), headers=headers)\n",
    "    ResponseJson = resp.json()\n",
    "    #print(ResponseJson)    \n",
    "    Token = ResponseJson.get('access_token')\n",
    "    Token_expiry = ResponseJson.get('expires_in')\n",
    "    Token_expiry_time = datetime.now() + timedelta(seconds= int(Token_expiry)) #Track Token Expiry Time"
   ]
  },
  {
   "cell_type": "code",
   "execution_count": 4,
   "metadata": {},
   "outputs": [],
   "source": [
    "#Function to Validate  Status of Token\n",
    "#If the Token is Expired a new one will be generated. \n",
    "def Token_Status():\n",
    "    global Token\n",
    "    global Token_expiry_time\n",
    "    global Token_expired \n",
    "    if Token_expiry_time >= datetime.now():\n",
    "        Token_expired = False    \n",
    "        print (\"Token not Expired: Expiring at \"+ str(Token_expiry_time))\n",
    "        #print(Token)\n",
    "    else:\n",
    "        Token_expired = True\n",
    "        Get_Token()\n",
    "        print (\"New Token Generated Expiring at \"+ str(Token_expiry_time))\n",
    "        #print(Token)\n"
   ]
  },
  {
   "cell_type": "code",
   "execution_count": 5,
   "metadata": {},
   "outputs": [],
   "source": [
    "#Function that initiates a Debit USSD Prompt to the Payer to approve wit PIN\n",
    "def Request_Debit_Payment(Environment,Payer_ID,Amount,Subscription):\n",
    "  import requests as rq\n",
    "  from datetime import datetime, timedelta\n",
    "  import json\n",
    "  import uuid\n",
    "  global Request_ID_Debit\n",
    "  Token_Status()\n",
    "  Request_ID_Debit = str(uuid.uuid4())\n",
    "  url = Base_Url+\"/collection/v1_0/requesttopay\"\n",
    "  headers = {\n",
    "    \"X-Reference-Id\": Request_ID_Debit, #Unique for every request, used to validate status of the request. \n",
    "    \"X-Target-Environment\": Environment,\n",
    "    \"Ocp-Apim-Subscription-Key\": Subscription,\n",
    "    \"Authorization\":\"Bearer \"+Token, #Avoid creating new tokens for every request,  track the Expiry \n",
    "    \"Content-Type\": \"application/json\"\n",
    "    ### You can add X-Callback-Url to receive the callback  (\"X-Callback-Url\":\"https://webhook.com/mysite/status\")\n",
    "  }\n",
    "  body = {    \n",
    "    \"amount\": Amount,\n",
    "    \"currency\": \"UGX\", #use the currency as per country mentioned above\n",
    "    \"externalId\": str(uuid.uuid1()), #Used for Reconciliation between application and MoMo platform. \n",
    "    \"payer\": {\n",
    "      \"partyIdType\": \"MSISDN\",#EMAIL and ALIAS apply as well \n",
    "      \"partyId\": Payer_ID\n",
    "  },\n",
    "    \"payerMessage\": \"MoMo Debit API Python Code Example\", #Message sent to the Payer\n",
    "    \"payeeNote\": \"MoMo Debit API Python Code Example\" #Message Note to the  Payee\n",
    "  }\n",
    "  resp = rq.request(\"post\", url, json=body, headers=headers)\n",
    "  print(\"Debit request to MSISDN \"+Payer_ID+\" Amount \"+Amount+\" \"+ \"Response Code \"+str(resp.status_code))\n",
    "  #print(resp.text)"
   ]
  },
  {
   "cell_type": "code",
   "execution_count": 7,
   "metadata": {},
   "outputs": [],
   "source": [
    "#Check Status \n",
    "def Check_Status(Request_ID,Subscription,Target_Environment):\n",
    "    import requests as rq\n",
    "    import json\n",
    "    Token_Status()\n",
    "    url = Base_Url+\"/collection/v1_0/requesttopay/\"+Request_ID\n",
    "    headers = {\n",
    "    \"X-Target-Environment\": Target_Environment,\n",
    "    \"Ocp-Apim-Subscription-Key\": Subscription,\n",
    "    \"Authorization\":\"Bearer \"+Token,\n",
    "    }\n",
    "    resp = rq.request(\"get\", url,headers=headers)\n",
    "    Status_Json = resp.json()\n",
    "    print(Status_Json)\n",
    "\n"
   ]
  },
  {
   "cell_type": "code",
   "execution_count": null,
   "metadata": {},
   "outputs": [],
   "source": [
    "#Invokes the Debit Request function \n",
    "Request_Debit_Payment(\"mtnuganda\",\"256700000000\",\"600\",Collection_Subscription_Primary_Key)"
   ]
  },
  {
   "cell_type": "code",
   "execution_count": null,
   "metadata": {},
   "outputs": [],
   "source": [
    "#Invokes the Debit Request status function\n",
    "Check_Status(Request_ID_Debit,Collection_Subscription_Primary_Key,Environment)"
   ]
  }
 ],
 "metadata": {
  "kernelspec": {
   "display_name": "base",
   "language": "python",
   "name": "python3"
  },
  "language_info": {
   "codemirror_mode": {
    "name": "ipython",
    "version": 3
   },
   "file_extension": ".py",
   "mimetype": "text/x-python",
   "name": "python",
   "nbconvert_exporter": "python",
   "pygments_lexer": "ipython3",
   "version": "3.9.12"
  }
 },
 "nbformat": 4,
 "nbformat_minor": 2
}
